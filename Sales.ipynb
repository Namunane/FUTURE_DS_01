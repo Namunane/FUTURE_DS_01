{
 "cells": [
  {
   "cell_type": "code",
   "execution_count": 1,
   "id": "e06863de",
   "metadata": {},
   "outputs": [],
   "source": [
    "# Importing necessary libraries for analysis\n",
    "import pandas as pd\n",
    "import matplotlib.pyplot as plt\n",
    "import seaborn as sns"
   ]
  },
  {
   "cell_type": "code",
   "execution_count": 7,
   "id": "d94a358e",
   "metadata": {},
   "outputs": [
    {
     "name": "stdout",
     "output_type": "stream",
     "text": [
      "  Invoice StockCode                          Description  Quantity  \\\n",
      "0  489434     85048  15CM CHRISTMAS GLASS BALL 20 LIGHTS        12   \n",
      "1  489434    79323P                   PINK CHERRY LIGHTS        12   \n",
      "2  489434    79323W                  WHITE CHERRY LIGHTS        12   \n",
      "3  489434     22041         RECORD FRAME 7\" SINGLE SIZE         48   \n",
      "4  489434     21232       STRAWBERRY CERAMIC TRINKET BOX        24   \n",
      "\n",
      "          InvoiceDate  Price  Customer ID         Country  \n",
      "0 2009-12-01 07:45:00   6.95      13085.0  United Kingdom  \n",
      "1 2009-12-01 07:45:00   6.75      13085.0  United Kingdom  \n",
      "2 2009-12-01 07:45:00   6.75      13085.0  United Kingdom  \n",
      "3 2009-12-01 07:45:00   2.10      13085.0  United Kingdom  \n",
      "4 2009-12-01 07:45:00   1.25      13085.0  United Kingdom  \n",
      "['Invoice', 'StockCode', 'Description', 'Quantity', 'InvoiceDate', 'Price', 'Customer ID', 'Country']\n"
     ]
    }
   ],
   "source": [
    "# Getting the dataset\n",
    "sales = pd.read_excel(r'D:\\Data Journey\\Future Interns\\Task 1\\online_retail_II.xlsx')\n",
    "\n",
    "# Display the first few rows to understand the data\n",
    "print(sales.head())  # Shows the first 5 rows with columns\n",
    "print(list(sales.columns))"
   ]
  },
  {
   "cell_type": "code",
   "execution_count": 16,
   "id": "b7115e4d",
   "metadata": {},
   "outputs": [
    {
     "name": "stdout",
     "output_type": "stream",
     "text": [
      "Description\n",
      "REGENCY CAKESTAND 3 TIER              163051.46\n",
      "WHITE HANGING HEART T-LIGHT HOLDER    157865.43\n",
      "DOTCOM POSTAGE                        116401.99\n",
      "ASSORTED COLOUR BIRD ORNAMENT          72454.12\n",
      "PAPER CHAIN KIT 50'S CHRISTMAS         57870.20\n",
      "                                        ...    \n",
      "Discount                               -7788.32\n",
      "Manual                                -14109.63\n",
      "Bank Charges                          -26318.03\n",
      "AMAZON FEE                            -39243.08\n",
      "Adjust bad debt                      -136552.02\n",
      "Name: Total_Sales, Length: 4681, dtype: float64\n"
     ]
    }
   ],
   "source": [
    "# Calculate Total Sales for each row\n",
    "sales['Total_Sales'] = sales['Quantity'] * sales['Price']\n",
    "\n",
    "# Group by product description and sum total sales\n",
    "Best_selling_pdt = sales.groupby('Description')['Total_Sales'].sum()\n",
    "\n",
    "# Display the result\n",
    "print(Best_selling_pdt.sort_values(ascending=False))\n",
    "\n"
   ]
  }
 ],
 "metadata": {
  "kernelspec": {
   "display_name": "Python (Arewadatascience)",
   "language": "python",
   "name": "arewadatascience"
  },
  "language_info": {
   "codemirror_mode": {
    "name": "ipython",
    "version": 3
   },
   "file_extension": ".py",
   "mimetype": "text/x-python",
   "name": "python",
   "nbconvert_exporter": "python",
   "pygments_lexer": "ipython3",
   "version": "3.12.7"
  }
 },
 "nbformat": 4,
 "nbformat_minor": 5
}
